{
 "cells": [
  {
   "metadata": {
    "collapsed": true,
    "ExecuteTime": {
     "end_time": "2024-06-06T23:05:19.197418Z",
     "start_time": "2024-06-06T23:05:16.674803Z"
    }
   },
   "cell_type": "code",
   "outputs": [],
   "execution_count": 9,
   "source": [
    "import pandas as pd\n",
    "import numpy as np\n",
    "\n",
    "import joblib\n",
    "import json\n",
    "from io import StringIO\n",
    "from sklearn.model_selection import train_test_split\n",
    "\n",
    "\n",
    "import matplotlib.pyplot as plt\n",
    "from mlflow import MlflowClient\n",
    "import requests"
   ],
   "id": "initial_id"
  },
  {
   "metadata": {},
   "cell_type": "markdown",
   "source": [
    "#### This file is for requesting training for my back-end with already trained models.\n",
    "\n"
   ],
   "id": "c313f4a124d68719"
  },
  {
   "metadata": {
    "ExecuteTime": {
     "end_time": "2024-06-06T22:41:17.078888Z",
     "start_time": "2024-06-06T22:41:17.065887Z"
    }
   },
   "cell_type": "code",
   "outputs": [
    {
     "data": {
      "text/plain": [
       "{'date': ['2022-05-28 21:00:00', '2022-06-28 21:00:00']}"
      ]
     },
     "execution_count": 2,
     "metadata": {},
     "output_type": "execute_result"
    }
   ],
   "execution_count": 2,
   "source": [
    "\n",
    "new_data = ['2022-05-28 21:00:00', '2022-06-28 21:00:00']\n",
    "\n",
    "df = pd.DataFrame(new_data, columns=['date'])\n",
    "#df = df.reset_index()\n",
    "\n",
    "X_dict = df.to_dict(orient='list')\n",
    "X_dict['date'] = list(X_dict['date'])\n",
    "X_dict"
   ],
   "id": "2a0741d3685d7804"
  },
  {
   "metadata": {},
   "cell_type": "markdown",
   "source": "##### XGB",
   "id": "93c7d4c97a5de0d8"
  },
  {
   "metadata": {
    "ExecuteTime": {
     "end_time": "2024-06-06T22:41:26.463061Z",
     "start_time": "2024-06-06T22:41:21.675890Z"
    }
   },
   "cell_type": "code",
   "outputs": [
    {
     "name": "stdout",
     "output_type": "stream",
     "text": [
      "<Response [200]>\n",
      "\"{\\\"pred\\\":{\\\"0\\\":16.3700008392,\\\"1\\\":19.3999996185}}\"\n"
     ]
    }
   ],
   "execution_count": 3,
   "source": [
    "#predicted_data_response_xgb = requests.post('http://127.0.0.1:8040/model/predict_xgb_t', json=X_dict)\n",
    "predicted_data_response_xgb = requests.post('https://weatherimage-ma4ayonvha-lm.a.run.app/model/predict_xgb_t', json=X_dict) # local address\n",
    "\n",
    "print(predicted_data_response_xgb)\n",
    "print(predicted_data_response_xgb.text)\n"
   ],
   "id": "471ef99121cdc81"
  },
  {
   "metadata": {
    "ExecuteTime": {
     "end_time": "2024-06-06T22:41:30.533471Z",
     "start_time": "2024-06-06T22:41:30.507694Z"
    }
   },
   "cell_type": "code",
   "outputs": [
    {
     "data": {
      "text/plain": [
       "        pred\n",
       "0  16.370001\n",
       "1  19.400000"
      ],
      "text/html": [
       "<div>\n",
       "<style scoped>\n",
       "    .dataframe tbody tr th:only-of-type {\n",
       "        vertical-align: middle;\n",
       "    }\n",
       "\n",
       "    .dataframe tbody tr th {\n",
       "        vertical-align: top;\n",
       "    }\n",
       "\n",
       "    .dataframe thead th {\n",
       "        text-align: right;\n",
       "    }\n",
       "</style>\n",
       "<table border=\"1\" class=\"dataframe\">\n",
       "  <thead>\n",
       "    <tr style=\"text-align: right;\">\n",
       "      <th></th>\n",
       "      <th>pred</th>\n",
       "    </tr>\n",
       "  </thead>\n",
       "  <tbody>\n",
       "    <tr>\n",
       "      <th>0</th>\n",
       "      <td>16.370001</td>\n",
       "    </tr>\n",
       "    <tr>\n",
       "      <th>1</th>\n",
       "      <td>19.400000</td>\n",
       "    </tr>\n",
       "  </tbody>\n",
       "</table>\n",
       "</div>"
      ]
     },
     "execution_count": 4,
     "metadata": {},
     "output_type": "execute_result"
    }
   ],
   "execution_count": 4,
   "source": [
    "data_model_pred_xgb_dict = json.loads(json.loads(predicted_data_response_xgb.text))\n",
    "data_model_pred_xgb_df = pd.DataFrame(data_model_pred_xgb_dict)\n",
    "data_model_pred_xgb_df"
   ],
   "id": "2e839a4c8e076e8d"
  },
  {
   "metadata": {},
   "cell_type": "markdown",
   "source": "##### Catboost",
   "id": "36ac60cf05fd9f8d"
  },
  {
   "metadata": {
    "ExecuteTime": {
     "end_time": "2024-05-16T08:10:39.325543Z",
     "start_time": "2024-05-16T08:10:38.969234Z"
    }
   },
   "cell_type": "code",
   "outputs": [],
   "execution_count": 47,
   "source": [
    "#predicted_data_response_catb = requests.post('http://127.0.0.1:8040/model/predict_catb_t', json=X_dict)\n",
    "predicted_data_response_catb = requests.post('https://weatherimage-ma4ayonvha-lm.a.run.app/model/predict_catb_t', json=X_dict) # local address\n",
    "\n",
    "print(predicted_data_response_catb)\n",
    "print(predicted_data_response_catb.text)"
   ],
   "id": "56e393ff8201199f"
  },
  {
   "metadata": {
    "ExecuteTime": {
     "end_time": "2024-05-16T08:10:39.995821Z",
     "start_time": "2024-05-16T08:10:39.982821Z"
    }
   },
   "cell_type": "code",
   "outputs": [],
   "execution_count": 48,
   "source": [
    "data_model_pred_catb_dict = json.loads(json.loads(predicted_data_response_catb.text))\n",
    "data_model_pred_catb_df = pd.DataFrame(data_model_pred_catb_dict)\n",
    "data_model_pred_catb_df"
   ],
   "id": "7a11fd924f44b5e1"
  },
  {
   "metadata": {},
   "cell_type": "markdown",
   "source": "{'index': [0], 'date': ['2024-05-31 21:00:00']}",
   "id": "c7efd0b6597cad3f"
  }
 ],
 "metadata": {
  "kernelspec": {
   "display_name": "Python 3",
   "language": "python",
   "name": "python3"
  },
  "language_info": {
   "codemirror_mode": {
    "name": "ipython",
    "version": 2
   },
   "file_extension": ".py",
   "mimetype": "text/x-python",
   "name": "python",
   "nbconvert_exporter": "python",
   "pygments_lexer": "ipython2",
   "version": "2.7.6"
  }
 },
 "nbformat": 4,
 "nbformat_minor": 5
}
