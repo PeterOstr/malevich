{
 "cells": [
  {
   "metadata": {
    "ExecuteTime": {
     "end_time": "2025-02-13T17:26:10.550510Z",
     "start_time": "2025-02-13T17:26:04.387209Z"
    }
   },
   "cell_type": "code",
   "source": [
    "from statsmodels.tsa.statespace.sarimax import SARIMAX\n",
    "from sklearn.metrics import mean_squared_error\n",
    "import optuna\n",
    "import mlflow\n",
    "from sklearn.model_selection import GridSearchCV\n",
    "from pmdarima.arima import auto_arima\n",
    "from keras.models import load_model\n",
    "import joblib\n",
    "from weatherapi import WeatherPoint\n",
    "import requests\n",
    "import matplotlib.pyplot as plt\n",
    "from statsmodels.tsa.statespace.sarimax import SARIMAX\n",
    "from sklearn.metrics import mean_squared_error\n",
    "import matplotlib.pyplot as plt\n",
    "import pickle\n",
    "from pmdarima.arima import auto_arima\n",
    "import pandas as pd\n",
    "import numpy as np\n",
    "from sklearn.preprocessing import MinMaxScaler\n",
    "from keras.models import Sequential\n",
    "from keras.layers import Dense, LSTM\n",
    "import matplotlib.pyplot as plt\n",
    "from keras.models import load_model\n",
    "import pandas as pd\n",
    "from catboost import CatBoostRegressor\n",
    "from sklearn.metrics import mean_squared_error\n",
    "import matplotlib.pyplot as plt\n",
    "import pandas as pd\n",
    "from statsmodels.tsa.statespace.sarimax import SARIMAX\n",
    "from sklearn.metrics import mean_squared_error\n",
    "import matplotlib.pyplot as plt\n",
    "import pandas as pd\n",
    "from statsmodels.tsa.seasonal import seasonal_decompose\n",
    "import matplotlib.pyplot as plt\n",
    "import numpy as np\n",
    "import matplotlib.pyplot as plt\n",
    "from keras.models import Sequential\n",
    "from keras.layers import Dense, LSTM\n",
    "from sklearn.preprocessing import MinMaxScaler\n",
    "from sklearn.metrics import mean_squared_error\n",
    "from datetime import datetime\n",
    "import pandas as pd\n",
    "from sklearn.linear_model import LinearRegression\n",
    "import matplotlib.pyplot as plt\n",
    "import xgboost as xgb"
   ],
   "id": "8d3ec17ac0c9f38f",
   "outputs": [],
   "execution_count": 1
  },
  {
   "metadata": {},
   "cell_type": "markdown",
   "source": [
    "### API training\n",
    "#### This file is for requesting training for WEATHER api website\n"
   ],
   "id": "8f43b4aa6d619109"
  },
  {
   "metadata": {
    "ExecuteTime": {
     "end_time": "2025-02-13T17:26:10.566485Z",
     "start_time": "2025-02-13T17:26:10.556456Z"
    }
   },
   "cell_type": "code",
   "source": [
    "\n",
    "# # Configure API key authorization: ApiKeyAuth\n",
    "# configuration = swagger_client.Configuration()\n",
    "# configuration.api_key['key'] = 'YOUR_API_KEY'\n",
    "# # Uncomment below to setup prefix (e.g. Bearer) for API key, if needed\n",
    "# # configuration.api_key_prefix['key'] = 'Bearer'\n",
    "# \n",
    "# # create an instance of the API class\n",
    "# api_instance = swagger_client.APIsApi(swagger_client.ApiClient(configuration))\n",
    "# q = 'Moscow' # Указываем название города Москва\n",
    "# dt = '2024-04-18' # Указываем сегодняшнюю дату\n",
    "# lang = 'ru' # Язык ответа - русский\n",
    "# \n",
    "# try:\n",
    "#     # Получаем текущую погоду\n",
    "#     api_response = api_instance.current_weather(q, lang=lang)\n",
    "#     pprint(api_response)\n",
    "# except ApiException as e:\n",
    "#     print(\"Exception when calling APIsApi->current_weather: %s\\n\" % e)"
   ],
   "id": "f609fde262a4b558",
   "outputs": [],
   "execution_count": 2
  },
  {
   "metadata": {
    "ExecuteTime": {
     "end_time": "2025-02-13T17:26:11.266935Z",
     "start_time": "2025-02-13T17:26:10.660456Z"
    }
   },
   "cell_type": "code",
   "source": [
    "\n",
    "# Подставьте свой ключ API погоды\n",
    "key = \"ae03964b347b4881afe205155242404\"\n",
    "\n",
    "# Широта и долгота для Москвы\n",
    "latitude = 55.7558\n",
    "longitude = 37.6176\n",
    "\n",
    "# Инициализация объекта WeatherPoint\n",
    "point = WeatherPoint(latitude, longitude)\n",
    "\n",
    "# Установка ключа для доступа к данным\n",
    "point.set_key(key)\n",
    "\n",
    "# Получение текущей погоды\n",
    "point.get_current_weather()\n",
    "\n",
    "# Доступ к конкретным данным о погоде\n",
    "temperature_celsius = point.temp_c  # температура в градусах Цельсия\n",
    "#wind_speed_kmh = point.wind_kmh  # скорость ветра в километрах в час\n",
    "local_datetime = point.localtime  # локальное время запроса\n"
   ],
   "id": "1cdd930202786934",
   "outputs": [],
   "execution_count": 3
  },
  {
   "metadata": {
    "ExecuteTime": {
     "end_time": "2025-02-13T17:26:11.298936Z",
     "start_time": "2025-02-13T17:26:11.284935Z"
    }
   },
   "cell_type": "code",
   "source": "temperature_celsius",
   "id": "80f73a642baf1625",
   "outputs": [
    {
     "data": {
      "text/plain": [
       "-8.0"
      ]
     },
     "execution_count": 4,
     "metadata": {},
     "output_type": "execute_result"
    }
   ],
   "execution_count": 4
  },
  {
   "metadata": {
    "ExecuteTime": {
     "end_time": "2025-02-13T17:26:13.808549Z",
     "start_time": "2025-02-13T17:26:13.792566Z"
    }
   },
   "cell_type": "code",
   "source": "local_datetime",
   "id": "947525bc2c4c141f",
   "outputs": [
    {
     "data": {
      "text/plain": [
       "'2025-02-13 20:26'"
      ]
     },
     "execution_count": 5,
     "metadata": {},
     "output_type": "execute_result"
    }
   ],
   "execution_count": 5
  },
  {
   "metadata": {
    "ExecuteTime": {
     "end_time": "2025-02-13T17:26:21.264428Z",
     "start_time": "2025-02-13T17:26:21.083993Z"
    }
   },
   "cell_type": "code",
   "source": [
    "\n",
    "# Установка базового URL и ключа API\n",
    "base_url = \"http://api.weatherapi.com/v1\"\n",
    "api_key = \"ae03964b347b4881afe205155242404\"  # Замените YOUR_API_KEY на ваш ключ API\n",
    "\n",
    "# Параметры запроса\n",
    "params = {\n",
    "    \"key\": api_key,\n",
    "    \"q\": \"Moscow\"  # Название города, для которого мы хотим получить погоду\n",
    "}\n",
    "\n",
    "# Формирование запроса\n",
    "response = requests.get(f\"{base_url}/current.json\", params=params)\n",
    "\n",
    "# Проверка успешности запроса\n",
    "if response.status_code == 200:\n",
    "    # Получение данных о погоде из ответа\n",
    "    weather_data = response.json()\n",
    "\n",
    "    # Извлечение интересующих нас данных о погоде\n",
    "    temperature_celsius = weather_data['current']['temp_c']  # Температура в градусах Цельсия\n",
    "    wind_speed_kmh = weather_data['current']['wind_kph']  # Скорость ветра в километрах в час\n",
    "    local_datetime = weather_data['location']['localtime']  # Локальное время запроса\n",
    "\n",
    "    # Вывод данных о погоде\n",
    "    print(f\"Текущая температура в Москве: {temperature_celsius}°C\")\n",
    "    print(f\"Скорость ветра в Москве: {wind_speed_kmh} км/ч\")\n",
    "    print(f\"Локальное время: {local_datetime}\")\n",
    "else:\n",
    "    print(\"Ошибка при выполнении запроса:\")\n",
    "    print(response.text)\n"
   ],
   "id": "5f70d1d6e4c8f51",
   "outputs": [
    {
     "name": "stdout",
     "output_type": "stream",
     "text": [
      "Текущая температура в Москве: -8.0°C\n",
      "Скорость ветра в Москве: 9.0 км/ч\n",
      "Локальное время: 2025-02-13 20:26\n"
     ]
    }
   ],
   "execution_count": 6
  },
  {
   "metadata": {
    "ExecuteTime": {
     "end_time": "2025-02-13T18:32:48.669658Z",
     "start_time": "2025-02-13T18:32:48.638657Z"
    }
   },
   "cell_type": "code",
   "source": "response.json()\n",
   "id": "84886b435ad6069c",
   "outputs": [
    {
     "data": {
      "text/plain": [
       "{'location': {'name': 'Moscow',\n",
       "  'region': 'Moscow City',\n",
       "  'country': 'Russia',\n",
       "  'lat': 55.7522,\n",
       "  'lon': 37.6156,\n",
       "  'tz_id': 'Europe/Moscow',\n",
       "  'localtime_epoch': 1739467598,\n",
       "  'localtime': '2025-02-13 20:26'},\n",
       " 'current': {'last_updated_epoch': 1739466900,\n",
       "  'last_updated': '2025-02-13 20:15',\n",
       "  'temp_c': -8.0,\n",
       "  'temp_f': 17.6,\n",
       "  'is_day': 0,\n",
       "  'condition': {'text': 'Light snow',\n",
       "   'icon': '//cdn.weatherapi.com/weather/64x64/night/326.png',\n",
       "   'code': 1213},\n",
       "  'wind_mph': 5.6,\n",
       "  'wind_kph': 9.0,\n",
       "  'wind_degree': 251,\n",
       "  'wind_dir': 'WSW',\n",
       "  'pressure_mb': 1017.0,\n",
       "  'pressure_in': 30.03,\n",
       "  'precip_mm': 0.0,\n",
       "  'precip_in': 0.0,\n",
       "  'humidity': 85,\n",
       "  'cloud': 75,\n",
       "  'feelslike_c': -12.5,\n",
       "  'feelslike_f': 9.5,\n",
       "  'windchill_c': -10.0,\n",
       "  'windchill_f': 14.0,\n",
       "  'heatindex_c': -5.9,\n",
       "  'heatindex_f': 21.5,\n",
       "  'dewpoint_c': -8.5,\n",
       "  'dewpoint_f': 16.6,\n",
       "  'vis_km': 8.0,\n",
       "  'vis_miles': 4.0,\n",
       "  'uv': 0.0,\n",
       "  'gust_mph': 9.1,\n",
       "  'gust_kph': 14.6}}"
      ]
     },
     "execution_count": 10,
     "metadata": {},
     "output_type": "execute_result"
    }
   ],
   "execution_count": 10
  },
  {
   "metadata": {
    "ExecuteTime": {
     "end_time": "2025-02-13T18:32:55.866473Z",
     "start_time": "2025-02-13T18:32:55.854473Z"
    }
   },
   "cell_type": "code",
   "source": [
    "api_response = response.json()\n",
    "new_row = pd.DataFrame.from_dict({\n",
    "    'Location': [api_response['location']['name']],\n",
    "    'Region': [api_response['location']['region']],\n",
    "    'Country': [api_response['location']['country']],\n",
    "    'Latitude': [api_response['location']['lat']],\n",
    "    'Longitude': [api_response['location']['lon']],\n",
    "    'Localtime': [api_response['location']['localtime']],\n",
    "    'Temperature_C': [api_response['current']['temp_c']],\n",
    "    #'Temperature_F': [api_response['current']['temp_f']],\n",
    "    'Wind_Speed_kph': [api_response['current']['wind_kph']],\n",
    "    'Wind_Direction': [api_response['current']['wind_dir']],\n",
    "    'Pressure_mb': [api_response['current']['pressure_mb']],\n",
    "    'Humidity': [api_response['current']['humidity']],\n",
    "    'Cloud': [api_response['current']['cloud']],\n",
    "    'FeelsLike_C': [api_response['current']['feelslike_c']],\n",
    "    #'FeelsLike_F': [api_response['current']['feelslike_f']],\n",
    "    'Visibility_km': [api_response['current']['vis_km']],\n",
    "    'UV_Index': [api_response['current']['uv']]\n",
    "})"
   ],
   "id": "b80d1a53b82316ce",
   "outputs": [],
   "execution_count": 12
  },
  {
   "metadata": {
    "ExecuteTime": {
     "end_time": "2025-02-13T18:32:58.377044Z",
     "start_time": "2025-02-13T18:32:58.348013Z"
    }
   },
   "cell_type": "code",
   "source": "new_row",
   "id": "a2d19c38347ea70",
   "outputs": [
    {
     "data": {
      "text/plain": [
       "  Location       Region Country  Latitude  Longitude         Localtime  \\\n",
       "0   Moscow  Moscow City  Russia   55.7522    37.6156  2025-02-13 20:26   \n",
       "\n",
       "   Temperature_C  Wind_Speed_kph Wind_Direction  Pressure_mb  Humidity  Cloud  \\\n",
       "0           -8.0             9.0            WSW       1017.0        85     75   \n",
       "\n",
       "   FeelsLike_C  Visibility_km  UV_Index  \n",
       "0        -12.5            8.0       0.0  "
      ],
      "text/html": [
       "<div>\n",
       "<style scoped>\n",
       "    .dataframe tbody tr th:only-of-type {\n",
       "        vertical-align: middle;\n",
       "    }\n",
       "\n",
       "    .dataframe tbody tr th {\n",
       "        vertical-align: top;\n",
       "    }\n",
       "\n",
       "    .dataframe thead th {\n",
       "        text-align: right;\n",
       "    }\n",
       "</style>\n",
       "<table border=\"1\" class=\"dataframe\">\n",
       "  <thead>\n",
       "    <tr style=\"text-align: right;\">\n",
       "      <th></th>\n",
       "      <th>Location</th>\n",
       "      <th>Region</th>\n",
       "      <th>Country</th>\n",
       "      <th>Latitude</th>\n",
       "      <th>Longitude</th>\n",
       "      <th>Localtime</th>\n",
       "      <th>Temperature_C</th>\n",
       "      <th>Wind_Speed_kph</th>\n",
       "      <th>Wind_Direction</th>\n",
       "      <th>Pressure_mb</th>\n",
       "      <th>Humidity</th>\n",
       "      <th>Cloud</th>\n",
       "      <th>FeelsLike_C</th>\n",
       "      <th>Visibility_km</th>\n",
       "      <th>UV_Index</th>\n",
       "    </tr>\n",
       "  </thead>\n",
       "  <tbody>\n",
       "    <tr>\n",
       "      <th>0</th>\n",
       "      <td>Moscow</td>\n",
       "      <td>Moscow City</td>\n",
       "      <td>Russia</td>\n",
       "      <td>55.7522</td>\n",
       "      <td>37.6156</td>\n",
       "      <td>2025-02-13 20:26</td>\n",
       "      <td>-8.0</td>\n",
       "      <td>9.0</td>\n",
       "      <td>WSW</td>\n",
       "      <td>1017.0</td>\n",
       "      <td>85</td>\n",
       "      <td>75</td>\n",
       "      <td>-12.5</td>\n",
       "      <td>8.0</td>\n",
       "      <td>0.0</td>\n",
       "    </tr>\n",
       "  </tbody>\n",
       "</table>\n",
       "</div>"
      ]
     },
     "execution_count": 13,
     "metadata": {},
     "output_type": "execute_result"
    }
   ],
   "execution_count": 13
  },
  {
   "metadata": {
    "ExecuteTime": {
     "end_time": "2025-02-13T17:26:29.722468Z",
     "start_time": "2025-02-13T17:26:29.707469Z"
    }
   },
   "cell_type": "code",
   "source": "new_row.columns",
   "id": "f81036c56a10693c",
   "outputs": [
    {
     "data": {
      "text/plain": [
       "Index(['Location', 'Region', 'Country', 'Latitude', 'Longitude', 'Localtime',\n",
       "       'Temperature_C', 'Wind_Speed_kph', 'Wind_Direction', 'Pressure_mb',\n",
       "       'Humidity', 'Cloud', 'FeelsLike_C', 'Visibility_km', 'UV_Index'],\n",
       "      dtype='object')"
      ]
     },
     "execution_count": 9,
     "metadata": {},
     "output_type": "execute_result"
    }
   ],
   "execution_count": 9
  },
  {
   "metadata": {},
   "cell_type": "markdown",
   "source": "1 mb = 0.75006156 Po",
   "id": "a8c75edc5801352d"
  },
  {
   "metadata": {
    "ExecuteTime": {
     "end_time": "2024-05-09T22:34:41.282045Z",
     "start_time": "2024-05-09T22:34:22.085839Z"
    }
   },
   "cell_type": "code",
   "source": [
    "data_raw = pd.read_excel('data/archive.xlsx')\n",
    "data_raw"
   ],
   "id": "7668f1cabe8a4d0a",
   "execution_count": 34,
   "outputs": []
  },
  {
   "metadata": {
    "ExecuteTime": {
     "end_time": "2024-05-09T22:34:52.839763Z",
     "start_time": "2024-05-09T22:34:51.511767Z"
    }
   },
   "cell_type": "code",
   "source": "data_raw.to_csv('data/archive.csv', index=False)",
   "id": "6431b61ec0e4db2c",
   "execution_count": 35,
   "outputs": []
  },
  {
   "metadata": {},
   "cell_type": "markdown",
   "source": [
    "#### archive data description\n",
    "    T, air temperature (degrees Celsius) at 2 metre height above the earth's surface\n",
    "    P0, atmospheric pressure at weather station level (millimeters of mercury)\n",
    "    P, atmospheric pressure reduced to mean sea level (millimeters of mercury)\n",
    "    U, relative humidity (%) at a height of 2 metres above the earth's surface\n",
    "    DD, mean wind direction (compass points) at a height of 10-12 metres above the earth’s surface over the 10-minute period immediately preceding the observation\n",
    "    FF, mean wind speed at a height of 10-12 metres above the earth’s surface over the 10-minute period immediately preceding the observation (meters per second)\n",
    "    FF10, maximum gust value at a height of 10-12 metres above the earth’s surface over the 10-minute period immediately preceding the observation (meters per second)\n",
    "    FF3, maximum gust value at a height of 10-12 metres above the earth’s surface between the periods of observations (meters per second)\n",
    "    Tn, minimum air temperature (degrees Celsius) during the past period (not exceeding 12 hours)\n",
    "    Tx, maximum air temperature (degrees Celsius) during the past period (not exceeding 12 hours)\n",
    "    Nh, amount of all the CL cloud present or, if no CL cloud is present, the amount of all the CM cloud present\n",
    "    H, height of the base of the lowest clouds (m)\n",
    "    VV, horizontal visibility (km)\n",
    "    RRR, amount of precipitation (millimeters)\n",
    "    sss, snow depth (cm)\n",
    "\n"
   ],
   "id": "fe94b2f02c36b5ad"
  },
  {
   "metadata": {
    "ExecuteTime": {
     "end_time": "2024-05-09T21:00:39.241308Z",
     "start_time": "2024-05-09T21:00:37.855479Z"
    }
   },
   "cell_type": "code",
   "source": [
    "data = data_raw[['Local time in Moscow', 'T']]\n",
    "data.dropna(inplace=True)"
   ],
   "id": "9e5eab8feb7f89a9",
   "execution_count": 10,
   "outputs": []
  },
  {
   "metadata": {
    "ExecuteTime": {
     "end_time": "2024-04-27T22:28:36.351457Z",
     "start_time": "2024-04-27T22:28:35.484597Z"
    }
   },
   "cell_type": "code",
   "source": [
    "\n",
    "\n",
    "\n",
    "\n",
    "# Преобразование столбца 'Local time in Moscow' в формат datetime\n",
    "data['Local time in Moscow'] = pd.to_datetime(data['Local time in Moscow'], format='%d.%m.%Y %H:%M')\n",
    "\n",
    "# Создание графика\n",
    "plt.figure(figsize=(10, 6))\n",
    "plt.plot(data['Local time in Moscow'], data['T'], marker='o', linestyle='-')\n",
    "\n",
    "# Настройка осей и заголовка графика\n",
    "plt.xlabel('Время')\n",
    "plt.ylabel('Температура, °C')\n",
    "plt.title('Зависимость температуры от времени')\n",
    "\n",
    "# Вывод графика\n",
    "plt.grid(True)\n",
    "plt.show()\n"
   ],
   "id": "85201488426b76f3",
   "execution_count": 63,
   "outputs": []
  },
  {
   "metadata": {
    "ExecuteTime": {
     "end_time": "2024-04-27T22:30:21.546872Z",
     "start_time": "2024-04-27T22:30:21.529290Z"
    }
   },
   "cell_type": "code",
   "source": "data.index",
   "id": "a976288e43277c2a",
   "execution_count": 68,
   "outputs": []
  },
  {
   "metadata": {
    "ExecuteTime": {
     "end_time": "2024-04-30T10:02:46.896697Z",
     "start_time": "2024-04-30T09:42:13.534019Z"
    }
   },
   "cell_type": "code",
   "source": [
    "\n",
    "\n",
    "# Load data\n",
    "data = pd.read_excel('data/archive.xls')\n",
    "\n",
    "\n",
    "# Preprocess data\n",
    "data['Local time in Moscow'] = pd.to_datetime(data['Local time in Moscow'], format='%d.%m.%Y %H:%M')\n",
    "data.set_index('Local time in Moscow', inplace=True)\n",
    "data = data.loc[:, ['T']]\n",
    "data.dropna(inplace=True)\n",
    "data['T'] = data['T'].astype('int32')\n",
    "\n",
    "\n",
    "\n",
    "# # Select target variable\n",
    "# endog_column = 'T'\n",
    "# endog = data[endog_column]\n",
    "\n",
    "#Split data into train and test sets\n",
    "# train = endog.loc[endog.index < '2023-01-01']\n",
    "# test = endog.loc[endog.index >= '2023-01-01']\n",
    "train = data.loc[data.index < '2023-01-01']\n",
    "test = data.loc[data.index >= '2023-01-01']\n",
    "\n",
    "# # Define SARIMAX model parameters (order and seasonal_order)\n",
    "# order = (1, 2, 1)\n",
    "# seasonal_order = (1, 1, 1, 12)\n",
    "# Подбор оптимальной SARIMA модели\n",
    "model = auto_arima(train, seasonal=True, m=12)\n",
    "\n",
    "# Прогнозирование с использованием SARIMA модели\n",
    "forecast = model.predict(n_periods=len(test))\n",
    "\n",
    "# Оценка производительности модели\n",
    "mse = mean_squared_error(test, forecast)\n",
    "print('Mean Squared Error:', mse)\n",
    "\n",
    "# Визуализация результатов\n",
    "plt.figure(figsize=(12, 6))\n",
    "plt.plot(test.index, test, label='Фактическая температура')\n",
    "plt.plot(test.index, forecast, color='red', label='Прогноз температуры')\n",
    "plt.title('Прогноз температуры с использованием SARIMA (с автоподбором гиперпараметров)')\n",
    "plt.xlabel('Дата')\n",
    "plt.ylabel('Температура')\n",
    "plt.legend()\n",
    "plt.show()\n"
   ],
   "id": "66fc4b19257a0137",
   "execution_count": 18,
   "outputs": []
  },
  {
   "metadata": {
    "ExecuteTime": {
     "end_time": "2024-04-30T10:02:46.898698Z",
     "start_time": "2024-04-30T10:02:46.898698Z"
    }
   },
   "cell_type": "code",
   "source": [
    "\n",
    "\n",
    "# Fit auto_arima model\n",
    "model = auto_arima(train, seasonal=True, m=12)\n",
    "\n",
    "# Save the model to a file\n",
    "with open('auto_arima_model.pkl', 'wb') as file:\n",
    "    pickle.dump(model, file)\n"
   ],
   "id": "611553bc2e09d447",
   "execution_count": null,
   "outputs": []
  },
  {
   "metadata": {
    "ExecuteTime": {
     "end_time": "2024-04-25T22:57:10.505820Z",
     "start_time": "2024-04-25T22:57:09.747566Z"
    }
   },
   "cell_type": "code",
   "source": [
    "\n",
    "print(model_fit.summary())"
   ],
   "id": "b2171d8417578863",
   "execution_count": 54,
   "outputs": []
  },
  {
   "metadata": {},
   "cell_type": "markdown",
   "source": "### KERAS",
   "id": "4d1ebecfc09281bc"
  },
  {
   "metadata": {
    "ExecuteTime": {
     "end_time": "2024-04-30T09:00:12.859595Z",
     "start_time": "2024-04-30T08:20:36.876798Z"
    }
   },
   "cell_type": "code",
   "source": [
    "\n",
    "\n",
    "# Load data\n",
    "data = pd.read_excel('data/archive.xls')\n",
    "\n",
    "# Preprocess data\n",
    "data['Local time in Moscow'] = pd.to_datetime(data['Local time in Moscow'], format='%d.%m.%Y %H:%M')\n",
    "data.set_index('Local time in Moscow', inplace=True)\n",
    "data = data.loc[:, ['T']]\n",
    "data.dropna(inplace=True)\n",
    "\n",
    "# Normalize the data\n",
    "scaler = MinMaxScaler(feature_range=(0, 1))\n",
    "scaled_data = scaler.fit_transform(data)\n",
    "\n",
    "# Define function to create dataset\n",
    "def create_dataset(dataset, time_steps=1):\n",
    "    X, Y = [], []\n",
    "    for i in range(len(dataset) - time_steps - 1):\n",
    "        X.append(dataset[i:(i + time_steps), 0])\n",
    "        Y.append(dataset[i + time_steps, 0])\n",
    "    return np.array(X), np.array(Y)\n",
    "\n",
    "# Create train and test sets\n",
    "time_steps = 12  # You can adjust this parameter\n",
    "X_train, y_train = create_dataset(scaled_data, time_steps)\n",
    "X_test, y_test = create_dataset(scaled_data, time_steps)\n",
    "\n",
    "# Reshape input to be [samples, time steps, features]\n",
    "X_train = np.reshape(X_train, (X_train.shape[0], X_train.shape[1], 1))\n",
    "X_test = np.reshape(X_test, (X_test.shape[0], X_test.shape[1], 1))\n",
    "\n",
    "# Define the LSTM model\n",
    "model = Sequential()\n",
    "model.add(LSTM(units=50, return_sequences=True, input_shape=(X_train.shape[1], 1)))\n",
    "model.add(LSTM(units=50))\n",
    "model.add(Dense(1))\n",
    "\n",
    "# Compile the model\n",
    "model.compile(optimizer='adam', loss='mean_squared_error')\n",
    "\n",
    "# Fit the model\n",
    "model.fit(X_train, y_train, epochs=100, batch_size=32)\n",
    "\n",
    "# Make predictions\n",
    "train_predict = model.predict(X_train)\n",
    "test_predict = model.predict(X_test)\n",
    "\n",
    "# Inverse transform the predictions\n",
    "train_predict = scaler.inverse_transform(train_predict)\n",
    "test_predict = scaler.inverse_transform(test_predict)\n",
    "\n",
    "# Calculate MSE\n",
    "train_mse = mean_squared_error(y_train, train_predict)\n",
    "test_mse = mean_squared_error(y_test, test_predict)\n",
    "print('Train Mean Squared Error:', train_mse)\n",
    "print('Test Mean Squared Error:', test_mse)\n",
    "\n",
    "# Visualization of the results\n",
    "plt.figure(figsize=(12, 6))\n",
    "plt.plot(data.index[time_steps+1:], data['T'][time_steps+1:], label='Фактическая температура')\n",
    "plt.plot(data.index[time_steps+1:], test_predict, color='red', label='Прогноз температуры')\n",
    "plt.title('Прогноз температуры с использованием LSTM')\n",
    "plt.xlabel('Дата')\n",
    "plt.ylabel('Температура')\n",
    "plt.legend()\n",
    "plt.show()\n"
   ],
   "id": "aa36c60c9c3a1082",
   "execution_count": 2,
   "outputs": []
  },
  {
   "metadata": {
    "ExecuteTime": {
     "end_time": "2024-04-30T09:06:57.051941Z",
     "start_time": "2024-04-30T09:06:56.999913Z"
    }
   },
   "cell_type": "code",
   "source": "#model.save(\"lstm_model.h5\")\n",
   "id": "cecdd39c7b10362",
   "execution_count": 3,
   "outputs": []
  },
  {
   "metadata": {
    "ExecuteTime": {
     "end_time": "2024-04-30T09:29:49.713054Z",
     "start_time": "2024-04-30T09:29:48.620919Z"
    }
   },
   "cell_type": "code",
   "source": [
    "\n",
    "# Load the model\n",
    "loaded_model = load_model(\"lstm_model.h5\")"
   ],
   "id": "fdefc9076150c195",
   "execution_count": 7,
   "outputs": []
  },
  {
   "metadata": {
    "ExecuteTime": {
     "end_time": "2024-04-30T09:42:00.021761Z",
     "start_time": "2024-04-30T09:41:56.039556Z"
    }
   },
   "cell_type": "code",
   "source": [
    "data = pd.read_excel('data/archive.xls')\n",
    "\n",
    "\n",
    "# Preprocess data\n",
    "data['Local time in Moscow'] = pd.to_datetime(data['Local time in Moscow'], format='%d.%m.%Y %H:%M')\n",
    "data.set_index('Local time in Moscow', inplace=True)\n",
    "data = data.loc[:, ['T']]\n",
    "data.dropna(inplace=True)\n",
    "data['T'] = data['T'].astype('int32')\n",
    "data"
   ],
   "id": "dbf14c4b5c0b87d8",
   "execution_count": 17,
   "outputs": []
  },
  {
   "metadata": {
    "ExecuteTime": {
     "end_time": "2024-04-30T09:32:22.333492Z",
     "start_time": "2024-04-30T09:32:20.985458Z"
    }
   },
   "cell_type": "code",
   "source": [
    "# Convert string timestamp to datetime object\n",
    "timestamp = pd.to_datetime('2024-04-30 12:00:00')\n",
    "\n",
    "# Preprocess the timestamp into a format suitable for input to the model\n",
    "# For example, you might need to extract features from the timestamp or scale it\n",
    "# In this example, let's assume you're using the timestamp directly as input\n",
    "input_data = np.array([[timestamp.timestamp()]])  # Convert timestamp to Unix timestamp\n",
    "\n",
    "# Make predictions using the loaded model\n",
    "predictions = loaded_model.predict(input_data)"
   ],
   "id": "d4cf19eba670876d",
   "execution_count": 13,
   "outputs": []
  },
  {
   "metadata": {
    "ExecuteTime": {
     "end_time": "2024-04-30T09:32:30.279651Z",
     "start_time": "2024-04-30T09:32:30.263652Z"
    }
   },
   "cell_type": "code",
   "source": "predictions",
   "id": "e45767a38d31ee74",
   "execution_count": 14,
   "outputs": []
  },
  {
   "metadata": {
    "ExecuteTime": {
     "end_time": "2024-04-29T22:49:52.776240Z",
     "start_time": "2024-04-29T22:49:45.615842Z"
    }
   },
   "cell_type": "code",
   "source": [
    "\n",
    "# Load data\n",
    "data = pd.read_excel('data/archive.xls')\n",
    "\n",
    "# Preprocess data\n",
    "data['Local time in Moscow'] = pd.to_datetime(data['Local time in Moscow'], format='%d.%m.%Y %H:%M')\n",
    "data.set_index('Local time in Moscow', inplace=True)\n",
    "data = data.loc[:, ['T']]\n",
    "data.dropna(inplace=True)\n",
    "data['T'] = data['T'].astype('float16')\n",
    "\n",
    "# Split data into train and test sets\n",
    "train = data.loc[data.index < '2023-01-01']\n",
    "test = data.loc[data.index >= '2023-01-01']\n",
    "\n",
    "# Define CatBoost model parameters\n",
    "# model = CatBoostRegressor(iterations=100, learning_rate=0.1, depth=6)\n",
    "model = CatBoostRegressor(loss_function='RMSE', depth=3, learning_rate=0.4, iterations=1000,\n",
    "                          random_seed=18,\n",
    "                          od_type='Iter',\n",
    "                          od_wait=20,)\n",
    "\n",
    "\n",
    "# Fit CatBoost model\n",
    "model.fit(train.index.values.reshape(-1, 1), train['T'].values, verbose=10)\n",
    "\n",
    "# Save the trained CatBoost model\n",
    "model.save_model('catboost_model')\n",
    "\n",
    "# Forecast using CatBoost model\n",
    "forecast = model.predict(test.index.values.reshape(-1, 1))\n",
    "\n",
    "# Performance evaluation of the model\n",
    "mse = mean_squared_error(test['T'].values, forecast)\n",
    "print('Mean Squared Error:', mse)\n",
    "\n",
    "# Visualization of the results\n",
    "plt.figure(figsize=(12, 6))\n",
    "plt.plot(test.index, test['T'], label='Фактическая температура')\n",
    "plt.plot(test.index, forecast, color='red', label='Прогноз температуры')\n",
    "plt.title('Прогноз температуры с использованием CatBoost')\n",
    "plt.xlabel('Дата')\n",
    "plt.ylabel('Температура')\n",
    "plt.legend()\n",
    "plt.show()\n"
   ],
   "id": "c09ca5abb7231195",
   "execution_count": 9,
   "outputs": []
  },
  {
   "metadata": {},
   "cell_type": "markdown",
   "source": "*********",
   "id": "e24269963744c365"
  },
  {
   "metadata": {
    "ExecuteTime": {
     "end_time": "2024-04-29T22:42:24.347891Z",
     "start_time": "2024-04-29T22:42:14.625204Z"
    }
   },
   "cell_type": "code",
   "source": [
    "# import pandas as pd\n",
    "# import numpy as np\n",
    "# from catboost import CatBoostRegressor\n",
    "# from sklearn.metrics import mean_squared_error\n",
    "# import matplotlib.pyplot as plt\n",
    "# import mlflow\n",
    "# \n",
    "# # Load data\n",
    "# data = pd.read_excel('data/archive.xls')\n",
    "# \n",
    "# # Preprocess data\n",
    "# data['Local time in Moscow'] = pd.to_datetime(data['Local time in Moscow'], format='%d.%m.%Y %H:%M')\n",
    "# data.set_index('Local time in Moscow', inplace=True)\n",
    "# data = data.loc[:, ['T']]\n",
    "# data.dropna(inplace=True)\n",
    "# data['T'] = data['T'].astype('float16')\n",
    "# \n",
    "# # Split data into train and test sets\n",
    "# train = data.loc[data.index < '2023-01-01']\n",
    "# test = data.loc[data.index >= '2023-01-01']\n",
    "# \n",
    "# # Start MLflow run\n",
    "# with mlflow.start_run():\n",
    "#     # Log parameters\n",
    "#     mlflow.log_param(\"iterations\", 100)\n",
    "#     mlflow.log_param(\"learning_rate\", 0.1)\n",
    "#     mlflow.log_param(\"depth\", 6)\n",
    "# \n",
    "#     # Define CatBoost model parameters\n",
    "#     model = CatBoostRegressor(iterations=100, learning_rate=0.1, depth=6)\n",
    "# \n",
    "#     # Fit CatBoost model and log progress\n",
    "#     mlflow.log_metric(\"train_progress\", 0)\n",
    "#     model.fit(train.index.values.reshape(-1, 1), train['T'].values, verbose=10)\n",
    "# \n",
    "#     # Log CatBoost model\n",
    "#     mlflow.catboost.log_model(model, \"catboost_model\")\n",
    "# \n",
    "#     # Forecast using CatBoost model\n",
    "#     forecast = model.predict(test.index.values.reshape(-1, 1))\n",
    "# \n",
    "#     # Performance evaluation of the model\n",
    "#     mse = mean_squared_error(test['T'].values, forecast)\n",
    "#     print('Mean Squared Error:', mse)\n",
    "#     mlflow.log_metric(\"mse\", mse)\n",
    "# \n",
    "#     # Visualization of the results\n",
    "#     plt.figure(figsize=(12, 6))\n",
    "#     plt.plot(test.index, test['T'], label='Фактическая температура')\n",
    "#     plt.plot(test.index, forecast, color='red', label='Прогноз температуры')\n",
    "#     plt.title('Прогноз температуры с использованием CatBoost')\n",
    "#     plt.xlabel('Дата')\n",
    "#     plt.ylabel('Температура')\n",
    "#     plt.legend()\n",
    "#     plt.show()\n"
   ],
   "id": "b6d28d4c3a4912ba",
   "execution_count": 7,
   "outputs": []
  },
  {
   "metadata": {},
   "cell_type": "markdown",
   "source": "### Greedsearch",
   "id": "14b769bab94254ef"
  },
  {
   "metadata": {
    "ExecuteTime": {
     "end_time": "2024-05-02T20:22:50.667049Z",
     "start_time": "2024-05-02T20:21:00.024142Z"
    }
   },
   "cell_type": "code",
   "source": [
    "\n",
    "\n",
    "# Load data\n",
    "data = pd.read_excel('data/archive.xls')\n",
    "\n",
    "# Preprocess data\n",
    "data['Local time in Moscow'] = pd.to_datetime(data['Local time in Moscow'], format='%d.%m.%Y %H:%M')\n",
    "data.set_index('Local time in Moscow', inplace=True)\n",
    "data = data.loc[:, ['T']]\n",
    "data.dropna(inplace=True)\n",
    "data['T'] = data['T'].astype('int32')\n",
    "\n",
    "# Resample data to 3-hour frequency\n",
    "data = data.asfreq('3H')\n",
    "\n",
    "# Split data into train and test sets\n",
    "train = data.loc[data.index < '2023-01-01']\n",
    "test = data.loc[data.index >= '2023-01-01']\n",
    "\n",
    "# Define SARIMA model parameters\n",
    "order = (1, 1, 1)  # Adjust order as needed\n",
    "seasonal_order = (1, 1, 1, 12)\n",
    "\n",
    "# Fit SARIMA model\n",
    "model = SARIMAX(train, order=order, seasonal_order=seasonal_order)\n",
    "fit_model = model.fit(disp=False)\n",
    "\n",
    "# Make predictions\n",
    "forecast = fit_model.forecast(steps=len(test))\n",
    "\n",
    "# Calculate MSE\n",
    "mse = mean_squared_error(test, forecast)\n",
    "print('Mean Squared Error:', mse)\n",
    "\n",
    "# Visualize results\n",
    "plt.figure(figsize=(12, 6))\n",
    "plt.plot(test.index, test, label='Actual temperature')\n",
    "plt.plot(test.index, forecast, color='red', label='Predicted temperature')\n",
    "plt.title('Temperature Forecast using SARIMA')\n",
    "plt.xlabel('Date')\n",
    "plt.ylabel('Temperature')\n",
    "plt.legend()\n",
    "plt.show()\n"
   ],
   "id": "ece7208abada0994",
   "execution_count": 15,
   "outputs": []
  },
  {
   "metadata": {
    "ExecuteTime": {
     "end_time": "2024-05-02T20:36:36.489454Z",
     "start_time": "2024-05-02T20:36:27.234878Z"
    }
   },
   "cell_type": "code",
   "source": [
    "\n",
    "\n",
    "# Load and preprocess data\n",
    "data = pd.read_excel('data/archive.xls')\n",
    "data['Local time in Moscow'] = pd.to_datetime(data['Local time in Moscow'], format='%d.%m.%Y %H:%M')\n",
    "data.set_index('Local time in Moscow', inplace=True)\n",
    "data = data.loc[:, ['T']]\n",
    "data.dropna(inplace=True)\n",
    "\n",
    "# Create a new index with the desired frequency\n",
    "new_index = pd.date_range(start=data.index.min(), end=data.index.max(), freq='3H')\n",
    "\n",
    "# Reindex the dataframe with the new index and fill missing values using interpolation\n",
    "data = data.reindex(new_index)\n",
    "data['T'] = data['T'].interpolate(method='linear')\n",
    "\n",
    "# Perform seasonal decomposition\n",
    "decomposition = seasonal_decompose(data['T'], model='additive')\n",
    "\n",
    "# Plot the decomposed components\n",
    "plt.figure(figsize=(12, 8))\n",
    "\n",
    "plt.subplot(411)\n",
    "plt.plot(data.index, data['T'], label='Original')\n",
    "plt.legend(loc='upper left')\n",
    "\n",
    "plt.subplot(412)\n",
    "plt.plot(decomposition.trend, label='Trend')\n",
    "plt.legend(loc='upper left')\n",
    "\n",
    "plt.subplot(413)\n",
    "plt.plot(decomposition.seasonal, label='Seasonal')\n",
    "plt.legend(loc='upper left')\n",
    "\n",
    "plt.subplot(414)\n",
    "plt.plot(decomposition.resid, label='Residual')\n",
    "plt.legend(loc='upper left')\n",
    "\n",
    "plt.tight_layout()\n",
    "plt.show()\n"
   ],
   "id": "a8ffa252b0c784b2",
   "execution_count": 20,
   "outputs": []
  },
  {
   "metadata": {
    "ExecuteTime": {
     "end_time": "2024-05-02T22:47:02.528645Z",
     "start_time": "2024-05-02T20:57:27.179599Z"
    }
   },
   "cell_type": "code",
   "source": [
    "\n",
    "\n",
    "# Загрузка данных\n",
    "data = pd.read_excel('data/archive.xls')\n",
    "\n",
    "# Предобработка данных\n",
    "data['Local time in Moscow'] = pd.to_datetime(data['Local time in Moscow'], format='%d.%m.%Y %H:%M')\n",
    "data.set_index('Local time in Moscow', inplace=True)\n",
    "data = data.loc[:, ['T']]\n",
    "data.dropna(inplace=True)\n",
    "dataset = data.values.astype('float32')\n",
    "\n",
    "# Нормализация данных\n",
    "scaler = MinMaxScaler(feature_range=(0, 1))\n",
    "dataset = scaler.fit_transform(dataset)\n",
    "\n",
    "# Разделение данных на обучающий и тестовый наборы\n",
    "train_size = int(len(dataset) * 0.7)\n",
    "test_size = len(dataset) - train_size\n",
    "train, test = dataset[0:train_size,:], dataset[train_size:len(dataset),:]\n",
    "\n",
    "# Функция для создания датасета для временных рядов\n",
    "def create_dataset(dataset, look_back=1):\n",
    "    dataX, dataY = [], []\n",
    "    for i in range(len(dataset)-look_back-1):\n",
    "        a = dataset[i:(i+look_back), 0]\n",
    "        dataX.append(a)\n",
    "        dataY.append(dataset[i + look_back, 0])\n",
    "    return np.array(dataX), np.array(dataY)\n",
    "\n",
    "# Преобразование данных в формат, пригодный для обучения\n",
    "look_back = 1\n",
    "trainX, trainY = create_dataset(train, look_back)\n",
    "testX, testY = create_dataset(test, look_back)\n",
    "\n",
    "# Изменение формы входных данных для LSTM [samples, time steps, features]\n",
    "trainX = np.reshape(trainX, (trainX.shape[0], 1, trainX.shape[1]))\n",
    "testX = np.reshape(testX, (testX.shape[0], 1, testX.shape[1]))\n",
    "\n",
    "# Создание и компиляция модели LSTM\n",
    "model = Sequential()\n",
    "model.add(LSTM(4, input_shape=(1, look_back)))\n",
    "model.add(Dense(1))\n",
    "model.compile(loss='mean_squared_error', optimizer='adam')\n",
    "\n",
    "# Обучение модели\n",
    "model.fit(trainX, trainY, epochs=100, batch_size=1, verbose=2)\n",
    "\n",
    "# Предсказание\n",
    "trainPredict = model.predict(trainX)\n",
    "testPredict = model.predict(testX)\n",
    "\n",
    "# Инвертирование нормализации для получения исходных данных\n",
    "trainPredict = scaler.inverse_transform(trainPredict)\n",
    "trainY = scaler.inverse_transform([trainY])\n",
    "testPredict = scaler.inverse_transform(testPredict)\n",
    "testY = scaler.inverse_transform([testY])\n",
    "\n",
    "# Расчет ошибки модели\n",
    "trainScore = np.sqrt(mean_squared_error(trainY[0], trainPredict[:,0]))\n",
    "print('Train Score: %.2f RMSE' % (trainScore))\n",
    "testScore = np.sqrt(mean_squared_error(testY[0], testPredict[:,0]))\n",
    "print('Test Score: %.2f RMSE' % (testScore))\n",
    "\n",
    "# Визуализация результатов\n",
    "trainPredictPlot = np.empty_like(dataset)\n",
    "trainPredictPlot[:, :] = np.nan\n",
    "trainPredictPlot[look_back:len(trainPredict)+look_back, :] = trainPredict\n",
    "testPredictPlot = np.empty_like(dataset)\n",
    "testPredictPlot[:, :] = np.nan\n",
    "testPredictPlot[len(trainPredict)+(look_back*2)+1:len(dataset)-1, :] = testPredict\n",
    "plt.plot(scaler.inverse_transform(dataset))\n",
    "plt.plot(trainPredictPlot)\n",
    "plt.plot(testPredictPlot)\n",
    "plt.show()\n"
   ],
   "id": "faa07dcea8c8f021",
   "execution_count": 21,
   "outputs": []
  },
  {
   "metadata": {
    "ExecuteTime": {
     "end_time": "2024-05-02T22:47:02.576162Z",
     "start_time": "2024-05-02T22:47:02.531163Z"
    }
   },
   "cell_type": "code",
   "source": "model.save(\"model1.h5\")\n",
   "id": "e443d6afd60d7532",
   "execution_count": 22,
   "outputs": []
  },
  {
   "metadata": {
    "ExecuteTime": {
     "end_time": "2024-05-05T21:33:03.473619Z",
     "start_time": "2024-05-05T21:33:02.659039Z"
    }
   },
   "cell_type": "code",
   "source": [
    "\n",
    "# Load the model\n",
    "loaded_model = load_model(\"model1.h5\")"
   ],
   "id": "a8952aa5cc0135fd",
   "execution_count": 6,
   "outputs": []
  },
  {
   "metadata": {
    "ExecuteTime": {
     "end_time": "2024-05-05T21:33:10.265313Z",
     "start_time": "2024-05-05T21:33:10.251315Z"
    }
   },
   "cell_type": "code",
   "source": "input_date = np.array(['2024-05-25 21:00:00'], dtype='datetime64')\n",
   "id": "b002d5b95428590b",
   "execution_count": 7,
   "outputs": []
  },
  {
   "metadata": {
    "ExecuteTime": {
     "end_time": "2024-05-05T21:33:20.695779Z",
     "start_time": "2024-05-05T21:33:20.608780Z"
    }
   },
   "cell_type": "code",
   "source": [
    "# Преобразование строки даты в формат datetime\n",
    "input_date = pd.to_datetime('2024-06-25 21:00:00')\n",
    "\n",
    "# Получение Unix timestamp\n",
    "unix_timestamp = input_date.timestamp()\n",
    "\n",
    "# Создание массива с одним значением Unix timestamp\n",
    "input_data = np.array([unix_timestamp])\n",
    "\n",
    "# Предсказание с использованием модели\n",
    "input_data = input_data.reshape(-1, 1, 1)\n",
    "predictions = loaded_model.predict(input_data)\n",
    "predictions"
   ],
   "id": "6a53a45367d8c3c1",
   "execution_count": 9,
   "outputs": []
  },
  {
   "metadata": {
    "ExecuteTime": {
     "end_time": "2024-05-03T09:13:40.035605Z",
     "start_time": "2024-05-03T09:13:39.957360Z"
    }
   },
   "cell_type": "code",
   "source": [
    "\n",
    "# Базовая дата\n",
    "base_date = datetime(1970, 1, 1)\n",
    "\n",
    "# Преобразуйте строку с датой в формат datetime\n",
    "target_date = '2023-06-23 21:00:00'\n",
    "target_date = datetime.strptime(target_date, '%Y-%m-%d %H:%M:%S')\n",
    "\n",
    "# Получите количество секунд с базовой даты\n",
    "target_seconds = (target_date - base_date).total_seconds()\n",
    "\n",
    "# Создайте массив с этим значением\n",
    "target_data = np.array([[target_seconds]])\n",
    "\n",
    "# Подготовьте данные, если необходимо (например, нормализация)\n",
    "# ...\n",
    "\n",
    "# Преобразуйте данные в формат, пригодный для LSTM\n",
    "target_data = np.reshape(target_data, (target_data.shape[0], 1, target_data.shape[1]))\n",
    "\n",
    "# Используйте обученную модель для предсказания температуры\n",
    "prediction = loaded_model.predict(target_data)\n",
    "\n",
    "# Декодируйте предсказанное значение обратно в исходный масштаб, если это необходимо\n",
    "# ...\n",
    "\n",
    "# Выведите предсказанное значение температуры\n",
    "print('Predicted temperature:', prediction)\n"
   ],
   "id": "ebd5776faa88589e",
   "execution_count": 56,
   "outputs": []
  },
  {
   "metadata": {
    "ExecuteTime": {
     "end_time": "2024-05-03T08:56:48.713297Z",
     "start_time": "2024-05-03T08:56:48.693442Z"
    }
   },
   "cell_type": "code",
   "source": "predictions",
   "id": "da86e498a2b6c5b2",
   "execution_count": 38,
   "outputs": []
  },
  {
   "metadata": {
    "ExecuteTime": {
     "end_time": "2024-05-03T09:40:14.211377Z",
     "start_time": "2024-05-03T09:40:14.197375Z"
    }
   },
   "cell_type": "code",
   "source": "data.head()",
   "id": "b60ecd28b46343e6",
   "execution_count": 57,
   "outputs": []
  },
  {
   "metadata": {},
   "cell_type": "code",
   "execution_count": null,
   "source": "",
   "id": "8d4594840bad8d1a",
   "outputs": []
  }
 ],
 "metadata": {
  "kernelspec": {
   "display_name": "Python 3",
   "language": "python",
   "name": "python3"
  },
  "language_info": {
   "codemirror_mode": {
    "name": "ipython",
    "version": 2
   },
   "file_extension": ".py",
   "mimetype": "text/x-python",
   "name": "python",
   "nbconvert_exporter": "python",
   "pygments_lexer": "ipython2",
   "version": "2.7.6"
  }
 },
 "nbformat": 4,
 "nbformat_minor": 5
}
