{
 "cells": [
  {
   "cell_type": "code",
   "id": "initial_id",
   "metadata": {
    "collapsed": true,
    "ExecuteTime": {
     "end_time": "2024-05-16T07:39:28.911939Z",
     "start_time": "2024-05-16T07:39:28.906938Z"
    }
   },
   "source": [
    "import pandas as pd\n",
    "import numpy as np\n",
    "\n",
    "import joblib\n",
    "import json\n",
    "from io import StringIO\n",
    "from sklearn.model_selection import train_test_split\n",
    "\n",
    "\n",
    "import matplotlib.pyplot as plt\n",
    "from mlflow import MlflowClient\n",
    "import requests"
   ],
   "execution_count": 11,
   "outputs": []
  },
  {
   "metadata": {},
   "cell_type": "markdown",
   "source": [
    "#### This file is for requesting training for my back-end with already trained models.\n",
    "\n"
   ],
   "id": "c313f4a124d68719"
  },
  {
   "metadata": {
    "ExecuteTime": {
     "end_time": "2024-05-17T07:34:22.025574Z",
     "start_time": "2024-05-17T07:34:22.003422Z"
    }
   },
   "cell_type": "code",
   "source": [
    "\n",
    "new_data = ['2022-05-28 21:00:00', '2022-06-28 21:00:00']\n",
    "\n",
    "df = pd.DataFrame(new_data, columns=['date'])\n",
    "#df = df.reset_index()\n",
    "\n",
    "X_dict = df.to_dict(orient='list')\n",
    "X_dict['date'] = list(X_dict['date'])\n",
    "X_dict"
   ],
   "id": "2a0741d3685d7804",
   "execution_count": 52,
   "outputs": []
  },
  {
   "metadata": {},
   "cell_type": "markdown",
   "source": "##### XGB",
   "id": "93c7d4c97a5de0d8"
  },
  {
   "metadata": {
    "ExecuteTime": {
     "end_time": "2024-05-17T07:34:30.025393Z",
     "start_time": "2024-05-17T07:34:24.887642Z"
    }
   },
   "cell_type": "code",
   "source": [
    "#predicted_data_response_xgb = requests.post('http://127.0.0.1:8040/model/predict_xgb_t', json=X_dict)\n",
    "predicted_data_response_xgb = requests.post('https://weatherimage-ma4ayonvha-lm.a.run.app/model/predict_xgb_t', json=X_dict) # local address\n",
    "\n",
    "print(predicted_data_response_xgb)\n",
    "print(predicted_data_response_xgb.text)\n"
   ],
   "id": "471ef99121cdc81",
   "execution_count": 53,
   "outputs": []
  },
  {
   "metadata": {
    "ExecuteTime": {
     "end_time": "2024-05-16T08:07:49.188203Z",
     "start_time": "2024-05-16T08:07:49.172206Z"
    }
   },
   "cell_type": "code",
   "source": [
    "data_model_pred_xgb_dict = json.loads(json.loads(predicted_data_response_xgb.text))\n",
    "data_model_pred_xgb_df = pd.DataFrame(data_model_pred_xgb_dict)\n",
    "data_model_pred_xgb_df"
   ],
   "id": "2e839a4c8e076e8d",
   "execution_count": 44,
   "outputs": []
  },
  {
   "metadata": {},
   "cell_type": "markdown",
   "source": "##### Catboost",
   "id": "36ac60cf05fd9f8d"
  },
  {
   "metadata": {
    "ExecuteTime": {
     "end_time": "2024-05-16T08:10:39.325543Z",
     "start_time": "2024-05-16T08:10:38.969234Z"
    }
   },
   "cell_type": "code",
   "source": [
    "#predicted_data_response_catb = requests.post('http://127.0.0.1:8040/model/predict_catb_t', json=X_dict)\n",
    "predicted_data_response_catb = requests.post('https://weatherimage-ma4ayonvha-lm.a.run.app/model/predict_catb_t', json=X_dict) # local address\n",
    "\n",
    "print(predicted_data_response_catb)\n",
    "print(predicted_data_response_catb.text)"
   ],
   "id": "56e393ff8201199f",
   "execution_count": 47,
   "outputs": []
  },
  {
   "metadata": {
    "ExecuteTime": {
     "end_time": "2024-05-16T08:10:39.995821Z",
     "start_time": "2024-05-16T08:10:39.982821Z"
    }
   },
   "cell_type": "code",
   "source": [
    "data_model_pred_catb_dict = json.loads(json.loads(predicted_data_response_catb.text))\n",
    "data_model_pred_catb_df = pd.DataFrame(data_model_pred_catb_dict)\n",
    "data_model_pred_catb_df"
   ],
   "id": "7a11fd924f44b5e1",
   "execution_count": 48,
   "outputs": []
  },
  {
   "metadata": {},
   "cell_type": "markdown",
   "source": "{'index': [0], 'date': ['2024-05-31 21:00:00']}",
   "id": "c7efd0b6597cad3f"
  }
 ],
 "metadata": {
  "kernelspec": {
   "display_name": "Python 3",
   "language": "python",
   "name": "python3"
  },
  "language_info": {
   "codemirror_mode": {
    "name": "ipython",
    "version": 2
   },
   "file_extension": ".py",
   "mimetype": "text/x-python",
   "name": "python",
   "nbconvert_exporter": "python",
   "pygments_lexer": "ipython2",
   "version": "2.7.6"
  }
 },
 "nbformat": 4,
 "nbformat_minor": 5
}
